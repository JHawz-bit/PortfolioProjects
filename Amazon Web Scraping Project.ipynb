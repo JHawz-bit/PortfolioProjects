{
 "cells": [
  {
   "cell_type": "code",
   "execution_count": 25,
   "id": "aa5e8613",
   "metadata": {},
   "outputs": [],
   "source": [
    "#import libraries\n",
    "\n",
    "from bs4 import BeautifulSoup\n",
    "import requests\n",
    "import smtplib\n",
    "import time\n",
    "import datetime\n",
    "import pandas as pd\n",
    "import csv"
   ]
  },
  {
   "cell_type": "code",
   "execution_count": 26,
   "id": "ee3c456e",
   "metadata": {},
   "outputs": [],
   "source": [
    "#create csv to store data, commented out after running to avoid overwriting data\n",
    "header = ['Title', 'Price', 'Date']\n",
    "\n",
    "# with open('AmazonDataset.csv', 'w', newline='', encoding='UTF8') as f:\n",
    "#     writer = csv.writer(f)\n",
    "#     writer.writerow(header)"
   ]
  },
  {
   "cell_type": "code",
   "execution_count": 27,
   "id": "087b96ec",
   "metadata": {},
   "outputs": [],
   "source": [
    "def check_price():\n",
    "    #accessing html\n",
    "    URL = 'https://www.amazon.com/Funny-Data-Systems-Business-Analyst/dp/B07FNW9FGJ/ref=sr_1_3?dchild=1&keywords=data%2Banalyst%2Btshirt&qid=1626655184&sr=8-3&customId=B0752XJYNL&th=1'\n",
    "    page = requests.get(URL)\n",
    "    soup1 = BeautifulSoup(page.content, \"lxml\")\n",
    "    soup2 = BeautifulSoup(soup1.prettify(), \"lxml\")\n",
    "    \n",
    "    #Data for title column\n",
    "    title = soup2.find(id='productTitle').get_text()\n",
    "    new_title = title.strip()\n",
    "\n",
    "    #Data for price column\n",
    "    price = soup2.find(\"span\",{'class':'a-price-whole'}).get_text() + soup2.find(\"span\",{'class':'a-price-fraction'}).get_text()\n",
    "    price = price.replace(\" \", \"\")\n",
    "    new_price=''\n",
    "    for i in price:\n",
    "        if i.isnumeric():\n",
    "            new_price = new_price + i\n",
    "        elif i == '.':\n",
    "            new_price = new_price + i\n",
    "        else:\n",
    "            continue\n",
    "    \n",
    "    #Datestamp for tracking change over days\n",
    "    today = datetime.date.today()\n",
    "    \n",
    "    #Row data\n",
    "    data = [new_title, new_price, today]\n",
    "\n",
    "    #Append to csv\n",
    "    with open('AmazonDataset.csv', 'a+', newline='', encoding='UTF8') as f:\n",
    "        writer = csv.writer(f)\n",
    "        writer.writerow(data)\n",
    "    \n",
    "    if(price < 14):\n",
    "        send_mail()\n"
   ]
  },
  {
   "cell_type": "code",
   "execution_count": 28,
   "id": "c172981d",
   "metadata": {},
   "outputs": [
    {
     "ename": "KeyboardInterrupt",
     "evalue": "",
     "output_type": "error",
     "traceback": [
      "\u001b[1;31m---------------------------------------------------------------------------\u001b[0m",
      "\u001b[1;31mKeyboardInterrupt\u001b[0m                         Traceback (most recent call last)",
      "\u001b[1;32m~\\AppData\\Local\\Temp/ipykernel_23060/4212351095.py\u001b[0m in \u001b[0;36m<module>\u001b[1;34m\u001b[0m\n\u001b[0;32m      1\u001b[0m \u001b[1;32mwhile\u001b[0m\u001b[1;33m(\u001b[0m\u001b[1;32mTrue\u001b[0m\u001b[1;33m)\u001b[0m\u001b[1;33m:\u001b[0m\u001b[1;33m\u001b[0m\u001b[1;33m\u001b[0m\u001b[0m\n\u001b[0;32m      2\u001b[0m     \u001b[0mcheck_price\u001b[0m\u001b[1;33m(\u001b[0m\u001b[1;33m)\u001b[0m\u001b[1;33m\u001b[0m\u001b[1;33m\u001b[0m\u001b[0m\n\u001b[1;32m----> 3\u001b[1;33m     \u001b[0mtime\u001b[0m\u001b[1;33m.\u001b[0m\u001b[0msleep\u001b[0m\u001b[1;33m(\u001b[0m\u001b[1;36m5\u001b[0m\u001b[1;33m)\u001b[0m\u001b[1;33m\u001b[0m\u001b[1;33m\u001b[0m\u001b[0m\n\u001b[0m",
      "\u001b[1;31mKeyboardInterrupt\u001b[0m: "
     ]
    }
   ],
   "source": [
    "#Run in the background. check_price will be run daily.\n",
    "while(True):\n",
    "    check_price()\n",
    "    time.sleep(86400)"
   ]
  },
  {
   "cell_type": "code",
   "execution_count": 29,
   "id": "c908646b",
   "metadata": {},
   "outputs": [
    {
     "name": "stdout",
     "output_type": "stream",
     "text": [
      "                                               Title  Price        Date\n",
      "0  Funny Got Data MIS Data Systems Business Analy...  19.99  2023-12-09\n",
      "1  Funny Got Data MIS Data Systems Business Analy...  19.99  2023-12-09\n",
      "2  Funny Got Data MIS Data Systems Business Analy...  19.99  2023-12-09\n",
      "3  Funny Got Data MIS Data Systems Business Analy...  19.99  2023-12-09\n",
      "4  Funny Got Data MIS Data Systems Business Analy...  19.99  2023-12-09\n",
      "5  Funny Got Data MIS Data Systems Business Analy...  19.99  2023-12-09\n",
      "6  Funny Got Data MIS Data Systems Business Analy...  19.99  2023-12-09\n",
      "7  Funny Got Data MIS Data Systems Business Analy...  19.99  2023-12-09\n",
      "8  Funny Got Data MIS Data Systems Business Analy...  19.99  2023-12-09\n",
      "9  Funny Got Data MIS Data Systems Business Analy...  19.99  2023-12-09\n"
     ]
    }
   ],
   "source": [
    "df = pd.read_csv(r'C:\\Users\\Jen_H\\AmazonDataset.csv')\n",
    "print(df)"
   ]
  },
  {
   "cell_type": "code",
   "execution_count": 30,
   "id": "84062b9c",
   "metadata": {},
   "outputs": [],
   "source": [
    "def send_mail():\n",
    "    server = smtplib.SMTP_SSL('smtp.gmail.com',465)\n",
    "    server.ehlo()\n",
    "    #server.starttls()\n",
    "    server.ehlo()\n",
    "    server.login('fakeEmail@yahoo.com','xxxxxxxxxxxxxx')\n",
    "    \n",
    "    subject = \"The Shirt you want is below $15! Now is your chance to buy!\"\n",
    "    body = \"Jennifer, the shirt is now below $15. If you still want it click on this link: https://www.amazon.com/Funny-Data-Systems-Business-Analyst/dp/B07FNW9FGJ/ref=sr_1_3?dchild=1&keywords=data+analyst+tshirt&qid=1626655184&sr=8-3\"\n",
    "   \n",
    "    msg = f\"Subject: {subject}\\n\\n{body}\"\n",
    "    \n",
    "    server.sendmail(\n",
    "        'fakeEmail@yahoo.com',\n",
    "        msg\n",
    "    )"
   ]
  },
  {
   "cell_type": "code",
   "execution_count": null,
   "id": "c473fb8d",
   "metadata": {},
   "outputs": [],
   "source": []
  }
 ],
 "metadata": {
  "kernelspec": {
   "display_name": "Python 3 (ipykernel)",
   "language": "python",
   "name": "python3"
  },
  "language_info": {
   "codemirror_mode": {
    "name": "ipython",
    "version": 3
   },
   "file_extension": ".py",
   "mimetype": "text/x-python",
   "name": "python",
   "nbconvert_exporter": "python",
   "pygments_lexer": "ipython3",
   "version": "3.9.7"
  }
 },
 "nbformat": 4,
 "nbformat_minor": 5
}
